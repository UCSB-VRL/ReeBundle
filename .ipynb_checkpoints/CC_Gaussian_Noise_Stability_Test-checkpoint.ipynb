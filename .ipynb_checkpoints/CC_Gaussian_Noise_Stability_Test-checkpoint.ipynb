{
 "cells": [
  {
   "cell_type": "code",
   "execution_count": 1,
   "id": "1f9ee616",
   "metadata": {
    "scrolled": true
   },
   "outputs": [],
   "source": [
    "import nibabel as nib\n",
    "import numpy as np\n",
    "from dipy.io.streamline import load_tractogram, save_tractogram\n",
    "import robustReebConstruction as rc\n",
    "import os\n",
    "import pickle\n",
    "import networkx as nx\n",
    "import visualization as vis\n",
    "import plotly.graph_objects as go\n",
    "import pandas as pd\n",
    "import matplotlib.pyplot as plt\n",
    "from mpl_toolkits.mplot3d import Axes3D"
   ]
  },
  {
   "cell_type": "code",
   "execution_count": null,
   "id": "b364ae56",
   "metadata": {
    "scrolled": true
   },
   "outputs": [
    {
     "name": "stdout",
     "output_type": "stream",
     "text": [
      "n =  167\n"
     ]
    }
   ],
   "source": [
    " %%time\n",
    "trkpathI = \"/media/hdd2/shailja/Crash/sphere1brush6/sub-0444g_ses-2_DSI_mc.src.gz.odf8.f5rec.gqi.1.25.cc.trk.gz\"    \n",
    "p_streamlines =  nib.streamlines.load(trkpathI)\n",
    "print(\"n = \",len(p_streamlines.streamlines))\n",
    "count = 0\n",
    "streamlines = p_streamlines.streamlines\n",
    "#Step 2: Reeb Graph Construction\n",
    "eps =2.5\n",
    "alpha = 3\n",
    "delta = 2\n",
    "\n",
    "H, node_loc = rc.constructRobustReeb(streamlines, eps, alpha, delta)\n",
    "G = H\n",
    "\n",
    "# 3d spring layout\n",
    "pos = node_loc\n",
    "# Extract node and edge positions from the layout\n",
    "node_xyz = np.array([pos[v] for v in sorted(G)])\n",
    "edge_xyz = np.array([(pos[u], pos[v]) for u, v in G.edges()])\n",
    "edge_labels = nx.get_edge_attributes(G, \"weight\")\n",
    "weight_labels = list(edge_labels.values())"
   ]
  },
  {
   "cell_type": "code",
   "execution_count": null,
   "id": "1acedaec",
   "metadata": {},
   "outputs": [],
   "source": [
    "#we need to seperate the X,Y,Z coordinates for Plotly\n",
    "x_nodes = [node_loc[i][0] for i in H.nodes()]# x-coordinates of nodes\n",
    "y_nodes = [node_loc[i][1] for i in H.nodes()]# y-coordinates\n",
    "z_nodes = [node_loc[i][2] for i in H.nodes()]# z-coordinates"
   ]
  },
  {
   "cell_type": "code",
   "execution_count": null,
   "id": "3580cc47",
   "metadata": {},
   "outputs": [],
   "source": [
    "#We also need a list of edges to include in the plot\n",
    "edge_list = H.edges()"
   ]
  },
  {
   "cell_type": "code",
   "execution_count": null,
   "id": "dc8a7205",
   "metadata": {},
   "outputs": [],
   "source": [
    "#we  need to create lists that contain the starting and ending coordinates of each edge.\n",
    "x_edges=[]\n",
    "y_edges=[]\n",
    "z_edges=[]\n",
    "\n",
    "#need to fill these with all of the coordiates\n",
    "for edge in edge_list:\n",
    "    #format: [beginning,ending,None]\n",
    "    x_coords = [node_loc[edge[0]][0],node_loc[edge[1]][0],None]\n",
    "    x_edges.append(x_coords)\n",
    "\n",
    "    y_coords = [node_loc[edge[0]][1],node_loc[edge[1]][1],None]\n",
    "    y_edges.append(y_coords)\n",
    "\n",
    "    z_coords = [node_loc[edge[0]][2],node_loc[edge[1]][2],None]\n",
    "    z_edges.append(z_coords)\n"
   ]
  },
  {
   "cell_type": "code",
   "execution_count": null,
   "id": "f5aa3b59",
   "metadata": {},
   "outputs": [],
   "source": [
    "edge_labels.values()\n",
    "weight_labels = list(edge_labels.values())"
   ]
  },
  {
   "cell_type": "code",
   "execution_count": null,
   "id": "2d4a04ed",
   "metadata": {},
   "outputs": [],
   "source": [
    "traces = []\n",
    "for i in range(len(x_edges)):\n",
    "    trace_edges = go.Scatter3d(x=x_edges[i],\n",
    "                               y=y_edges[i],\n",
    "                               z=z_edges[i],\n",
    "                               mode='lines',\n",
    "                               line=dict(color='black', width=weight_labels[i]*10),)\n",
    "    traces.append(trace_edges)\n"
   ]
  },
  {
   "cell_type": "code",
   "execution_count": null,
   "id": "a6a68682",
   "metadata": {},
   "outputs": [],
   "source": [
    "xdata = []\n",
    "ydata = []\n",
    "zdata = [] \n",
    "for i in range(len(streamlines)):\n",
    "    \n",
    "    for j in streamlines[i]:\n",
    "        xdata.append(j[0])\n",
    "        ydata.append(j[1])\n",
    "        zdata.append(j[2])\n",
    "trace_data = go.Scatter3d(x=xdata,\n",
    "                        y=ydata,\n",
    "                        z=zdata,\n",
    "                        mode='markers',\n",
    "                        marker=dict(symbol='circle',color='#eb7a30', size=1),\n",
    "                        hoverinfo=None)"
   ]
  },
  {
   "cell_type": "code",
   "execution_count": null,
   "id": "4e4d5be5",
   "metadata": {},
   "outputs": [],
   "source": [
    "#create a trace for the nodes\n",
    "trace_nodes = go.Scatter3d(x=x_nodes,\n",
    "                         y=y_nodes,\n",
    "                        z=z_nodes,\n",
    "                        mode='markers',                \n",
    "                        marker=dict(symbol='circle',\n",
    "                                    color = 'red',\n",
    "                                    size=10,\n",
    "                                    line=dict(color='red', width=0.5)),\n",
    "                        \n",
    "                        hoverinfo='text')"
   ]
  },
  {
   "cell_type": "code",
   "execution_count": null,
   "id": "6ee3feae",
   "metadata": {},
   "outputs": [],
   "source": [
    "#we need to set the axis for the plot \n",
    "axis = dict(showbackground=False,\n",
    "            showline=False,\n",
    "            zeroline=False,\n",
    "            showgrid=False,\n",
    "            showticklabels=False,\n",
    "            title='')"
   ]
  },
  {
   "cell_type": "code",
   "execution_count": null,
   "id": "9c47c756",
   "metadata": {},
   "outputs": [],
   "source": [
    "#also need to create the layout for our plot\n",
    "layout = go.Layout(title= r'$\\text{Corpus Callosum (CC): } \\epsilon = 2.5, \\alpha = 3, \\delta = 5$',\n",
    "                width=650,\n",
    "                height=625,\n",
    "                showlegend=False,\n",
    "                scene=dict(xaxis=dict(axis),\n",
    "                        yaxis=dict(axis),\n",
    "                        zaxis=dict(axis),\n",
    "                        ),\n",
    "                margin=dict(t=100),\n",
    "                hovermode='closest')"
   ]
  },
  {
   "cell_type": "code",
   "execution_count": null,
   "id": "07bd07b4",
   "metadata": {
    "scrolled": false
   },
   "outputs": [],
   "source": [
    "#Include the traces we want to plot and create a figure\n",
    "data = traces + [trace_nodes, trace_data]\n",
    "fig = go.Figure(data=data, layout=layout)\n",
    "fig.show()"
   ]
  }
 ],
 "metadata": {
  "kernelspec": {
   "display_name": "Python 3 (ipykernel)",
   "language": "python",
   "name": "python3"
  },
  "language_info": {
   "codemirror_mode": {
    "name": "ipython",
    "version": 3
   },
   "file_extension": ".py",
   "mimetype": "text/x-python",
   "name": "python",
   "nbconvert_exporter": "python",
   "pygments_lexer": "ipython3",
   "version": "3.8.10"
  }
 },
 "nbformat": 4,
 "nbformat_minor": 5
}
