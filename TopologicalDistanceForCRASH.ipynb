{
 "cells": [
  {
   "cell_type": "code",
   "execution_count": 1,
   "id": "1f9ee616",
   "metadata": {},
   "outputs": [],
   "source": [
    "import nibabel as nib\n",
    "import numpy as np\n",
    "import networkx as nx\n",
    "import matplotlib.pyplot as plt\n",
    "import robustReebConstruction as rc\n",
    "import os\n",
    "import pickle\n",
    "from mpl_toolkits.mplot3d import Axes3D\n",
    "def graph_vis(G, node_loc, streamlines):\n",
    "    # 3d spring layout\n",
    "    pos = node_loc\n",
    "    # Extract node and edge positions from the layout\n",
    "    node_xyz = np.array([pos[v] for v in sorted(G)])\n",
    "    edge_xyz = np.array([(pos[u], pos[v]) for u, v in G.edges()])\n",
    "\n",
    "    # Create the 3D figure\n",
    "    fig = plt.figure(figsize = (8,8))\n",
    "    ax = fig.add_subplot(111, projection=\"3d\")\n",
    "\n",
    "    # Plot the nodes - alpha is scaled by \"depth\" automatically\n",
    "    ax.scatter(*node_xyz.T, s=100, ec=\"w\",label = None)\n",
    "    for i in range(len(streamlines)):\n",
    "        xdata = []\n",
    "        ydata = []\n",
    "        zdata = []\n",
    "        for j in streamlines[i]:\n",
    "            xdata.append(j[0])\n",
    "            ydata.append(j[1])\n",
    "            zdata.append(j[2])\n",
    "        ax.plot3D(xdata,ydata,zdata,color= '#bfbfbf', lw = 2);\n",
    "    # Plot the nodes\n",
    "    ax.scatter(*node_xyz.T, s=400, ec=\"w\", color = 'r', zorder=100)\n",
    "    edge_labels = nx.get_edge_attributes(G, \"weight\")\n",
    "    # Plot the edges\n",
    "    weight_labels = list(edge_labels.values())\n",
    "    count = 0\n",
    "    for vizedge in edge_xyz:\n",
    "        wt = weight_labels[count]*5\n",
    "        if wt == 10:\n",
    "            ax.plot(*vizedge.T, color='g',\n",
    "                    lw = wt,\n",
    "                    zorder = 50,\n",
    "                   label = str(weight_labels[count]))\n",
    "        else:\n",
    "            ax.plot(*vizedge.T, color='#000000',\n",
    "                    lw = wt,\n",
    "                    zorder = 50,\n",
    "                   label = str(weight_labels[count]))\n",
    "        count+=1\n",
    "\n",
    "\n",
    "    def _format_axes(ax):\n",
    "        \"\"\"Visualization options for the 3D axes.\"\"\"\n",
    "        # Turn gridlines off\n",
    "        ax.grid(False)\n",
    "        # Suppress tick labels\n",
    "        for dim in (ax.xaxis, ax.yaxis, ax.zaxis):\n",
    "            dim.set_ticks([])\n",
    "        # Set axes labels\n",
    "        ax.set_xlabel(\"x\")\n",
    "        ax.set_ylabel(\"y\")\n",
    "        ax.set_zlabel(\"z\")\n",
    "\n",
    "\n",
    "    _format_axes(ax)\n",
    "    fig.tight_layout()\n",
    "    plt.axis(\"off\")\n",
    "    plt.legend()"
   ]
  },
  {
   "cell_type": "code",
   "execution_count": 2,
   "id": "a5dc8e6e",
   "metadata": {},
   "outputs": [
    {
     "name": "stdout",
     "output_type": "stream",
     "text": [
      "CPU times: user 0 ns, sys: 36.5 ms, total: 36.5 ms\n",
      "Wall time: 2.67 ms\n"
     ]
    }
   ],
   "source": [
    "%%time\n",
    "import siminetInsertDelCost as sn\n",
    "from functools import partial\n",
    "\n",
    "def annotate_graph(graph, node_positions):\n",
    "    for e in graph.edges:\n",
    "        n1, n2 = e\n",
    "        pos1, pos2 = np.array(node_positions[n1]), np.array(node_positions[n2])\n",
    "        graph.nodes[n1][\"position\"] = pos1\n",
    "        graph.nodes[n2][\"position\"] = pos2\n",
    "        graph.edges[e][\"distance\"] = np.linalg.norm(pos1 - pos2)\n",
    "        \n",
    "def merge_equivalent(graph, node_annotations):\n",
    "    \"\"\"\n",
    "    Intakes a graph and its associated node annotations where some nodes may have the same annotation (spatial position). \n",
    "    Those equivalent nodes will be merged into the same node, and edges involving these equivalent nodes will be inherited \n",
    "    by the final node.\n",
    "    \"\"\"\n",
    "    \n",
    "    equivalences = dict()\n",
    "    \n",
    "    for pos, node in node_annotations.items():\n",
    "        if pos not in equivalences:\n",
    "            equivalences[pos] = []\n",
    "        \n",
    "        equivalences[pos].append(node)\n",
    "        \n",
    "    for eq_group in equivalences.values():\n",
    "        if len(eq_group) == 1: # nothing to merge\n",
    "            continue\n",
    "            \n",
    "        head, tail = eq_group[0], eq_group[1:]\n",
    "        for n in tail:\n",
    "            nx.contracted_nodes(graph, head, n, copy=False)"
   ]
  },
  {
   "cell_type": "code",
   "execution_count": 3,
   "id": "8c3653a5",
   "metadata": {
    "scrolled": true
   },
   "outputs": [],
   "source": [
    "sub_list = ['4936m', '1808u', '1142k', '2027j', '4917f', '4961a']\n",
    "\n",
    "#my_scoring_fn gives the flexibility of deciding on which distance score do you want to use.\n",
    "#Here, we use normalized node_score as ur scoring functin to quantify topological difference between the bundle tracts.\n",
    "def my_scoring_fn(node_score, edge_weight_score, edge_dist_score, gcmp, gref, eps, alpha, delta):\n",
    "    return node_score/len(gref.nodes())\n",
    "eps =2.5\n",
    "alpha = 3\n",
    "delta = 5\n",
    "dist_hm = []\n",
    "del_list = []\n",
    "inter_dist = []\n",
    "intra_dist = []\n",
    "for subi in range(len(sub_list)):\n",
    "    for i in range(1,10):\n",
    "            dist_sub = []\n",
    "            for subj in range(len(sub_list)):\n",
    "                for j in range(1,10): \n",
    "                    try:                        \n",
    "                        H1 =nx.read_gpickle(\"ReebGraphsCRASH/H_CC_sub-\"+str(sub_list[subi])+\"_ses-\"+str(i)+\".gpickle\")\n",
    "                        with open(\"ReebGraphsCRASH/node_loc_CCsub-\"+str(sub_list[subi])+\"_ses-\"+str(i)+\".pickle\", 'rb') as handle:\n",
    "                            node_loc_all = pickle.load(handle)\n",
    "                        merge_equivalent(H1, node_loc_all)\n",
    "                        annotate_graph(H1, node_loc_all)\n",
    "                        node_list = H1.nodes()\n",
    "                        node_loc = {}\n",
    "                        for node_key in node_loc_all.keys():\n",
    "                            if node_key in node_list:\n",
    "                                node_loc[node_key] = node_loc_all[node_key]\n",
    "                        x_c1 = sum([list(node_loc.values())[idx][0] for idx in range(len(node_loc.values()))])/len(node_loc.values())\n",
    "                        y_c1 = sum([list(node_loc.values())[idx][1] for idx in range(len(node_loc.values()))])/len(node_loc.values())\n",
    "                        z_c1 = sum([list(node_loc.values())[idx][2] for idx in range(len(node_loc.values()))])/len(node_loc.values())\n",
    "\n",
    "                        H2 =nx.read_gpickle(\"ReebGraphsCRASH/H_CC_sub-\"+str(sub_list[subj])+\"_ses-\"+str(j)+\".gpickle\")\n",
    "                        with open(\"ReebGraphsCRASH/node_loc_CCsub-\"+str(sub_list[subj])+\"_ses-\"+str(j)+\".pickle\", 'rb') as handle:\n",
    "                            node_loc_all = pickle.load(handle)\n",
    "                        merge_equivalent(H2, node_loc_all)\n",
    "                        annotate_graph(H2, node_loc_all)\n",
    "                        node_list = H2.nodes()\n",
    "                        node_loc = {}\n",
    "                        for node_key in node_loc_all.keys():\n",
    "                            if node_key in node_list:\n",
    "                                node_loc[node_key] = node_loc_all[node_key]\n",
    "                        x_c2 = sum([list(node_loc.values())[idx][0] for idx in range(len(node_loc.values()))])/len(node_loc.values())\n",
    "                        y_c2 = sum([list(node_loc.values())[idx][1] for idx in range(len(node_loc.values()))])/len(node_loc.values())\n",
    "                        z_c2 = sum([list(node_loc.values())[idx][2] for idx in range(len(node_loc.values()))])/len(node_loc.values())\n",
    "\n",
    "                        sub_r = np.linalg.norm(np.array([x_c1,y_c1,z_c1]) - np.array([x_c2,y_c2,z_c2]))\n",
    "                        dist = partial(sn.distance, eps=eps, alpha=alpha, delta=delta, scoring_func=my_scoring_fn,ins_cost = 2*eps*(1+sub_r/30))\n",
    "                        dist = 0.5*(dist(H1, H2) + dist(H2, H1))\n",
    "\n",
    "                        if dist>20:\n",
    "                            dist_sub.append(20)\n",
    "                        else:\n",
    "                            dist_sub.append(dist)\n",
    "\n",
    "                        if (subj == subi):\n",
    "                            intra_dist.append(dist)\n",
    "                        else:\n",
    "                            inter_dist.append(dist)\n",
    "                    except:\n",
    "                        pass #session numbers are different, so to pass the sesson numbers not present\n",
    "#                         print(subi,subj,i,j)\n",
    "            dist_hm.append(dist_sub)"
   ]
  },
  {
   "cell_type": "code",
   "execution_count": 4,
   "id": "eae6bc5c",
   "metadata": {},
   "outputs": [
    {
     "data": {
      "text/plain": [
       "Text(0.5, 1.0, 'CC')"
      ]
     },
     "execution_count": 4,
     "metadata": {},
     "output_type": "execute_result"
    },
    {
     "data": {
      "image/png": "[encoded data removed]",
      "text/plain": [
       "<Figure size 600x500 with 2 Axes>"
      ]
     },
     "metadata": {},
     "output_type": "display_data"
    }
   ],
   "source": [
    "import seaborn as sns\n",
    "sns.set(rc = {'figure.figsize':(6,5)})\n",
    "dist = [i for i in dist_hm if len(i)==48\n",
    "       ]\n",
    "ax = sns.heatmap(dist,cmap = \"coolwarm\",yticklabels=False,xticklabels=False)\n",
    "plt.title(\"CC\")"
   ]
  },
  {
   "cell_type": "markdown",
   "id": "12a34fa1",
   "metadata": {},
   "source": [
    "# Statistical analysis of topological distance as a feature to distinguish between bundles of different subjects\n",
    "The statistical significance of the difference between inter- and intra- distances based on these tractometry metrics is negligible $(p \\sim .99)$ for tractometry methods while the differences between the inter- and intra- distances are statistically significant with p $\\sim$ 0 for the proposed Reeb graph-based distances."
   ]
  },
  {
   "cell_type": "code",
   "execution_count": 5,
   "id": "ed68fd97",
   "metadata": {},
   "outputs": [
    {
     "data": {
      "text/plain": [
       "Ttest_indResult(statistic=65.27468260808237, pvalue=1.8562400326400635e-279)"
      ]
     },
     "execution_count": 5,
     "metadata": {},
     "output_type": "execute_result"
    }
   ],
   "source": [
    "#pvalue ~ 0 indicates the significance of topological distance as a featureto disntinguish between bundles of different subjects.\n",
    "import scipy.stats as stats\n",
    "stats.ttest_ind(a=inter_dist,b=intra_dist,equal_var=False)"
   ]
  }
 ],
 "metadata": {
  "kernelspec": {
   "display_name": "Python 3 (ipykernel)",
   "language": "python",
   "name": "python3"
  },
  "language_info": {
   "codemirror_mode": {
    "name": "ipython",
    "version": 3
   },
   "file_extension": ".py",
   "mimetype": "text/x-python",
   "name": "python",
   "nbconvert_exporter": "python",
   "pygments_lexer": "ipython3",
   "version": "3.8.10"
  }
 },
 "nbformat": 4,
 "nbformat_minor": 5
}
