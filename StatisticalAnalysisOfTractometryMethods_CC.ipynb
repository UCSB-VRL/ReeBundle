{
 "cells": [
  {
   "cell_type": "markdown",
   "id": "98696269",
   "metadata": {},
   "source": [
    "# Statistical analysis of tractometry method as a feature to distinguish between bundles of different subjects\n",
    "The statistical significance of the difference between inter- and intra- distances based on these tractometry metrics is negligible $(p \\sim .99)$ for tractometry methods while the differences between the inter- and intra- distances are statistically significant with p $\\sim$ 0 for the proposed Reeb graph-based distances."
   ]
  },
  {
   "cell_type": "code",
   "execution_count": 1,
   "id": "43abb273",
   "metadata": {},
   "outputs": [],
   "source": [
    "import csv\n",
    "import numpy as np\n",
    "file = open('CCtractometry.csv')\n",
    "csvreader = csv.reader(file)\n",
    "header = []\n",
    "header = next(csvreader)\n",
    "\n",
    "rows = []\n",
    "inter_dist = []\n",
    "intra_dist = []\n",
    "for row in csvreader:\n",
    "    rows.append(row)\n",
    "file.close()\n",
    "for i in range(len(rows)):\n",
    "    subi = rows[i][0].split(\"_\")[0]\n",
    "    tmi = np.array([float(x) for x in rows[i][1:] ])\n",
    "    for j in range(len(rows)):\n",
    "        subj = rows[j][0].split(\"_\")[0]         \n",
    "        tmj = np.array([float(x) for x in rows[j][1:] ])\n",
    "        subtracted_array = np.subtract(tmi, tmj)\n",
    "        if (subi == subj):\n",
    "            intra_dist.append(subtracted_array)\n",
    "        else:\n",
    "            inter_dist.append(subtracted_array)    \n",
    "        "
   ]
  },
  {
   "cell_type": "code",
   "execution_count": 2,
   "id": "b102c9bd",
   "metadata": {},
   "outputs": [
    {
     "name": "stdout",
     "output_type": "stream",
     "text": [
      "Analysis tractometry metric:  number of tracts\n",
      "Ttest_indResult(statistic=0.0, pvalue=1.0)\n",
      "Analysis tractometry metric:  mean length(mm)\n",
      "Ttest_indResult(statistic=6.297196920120436e-16, pvalue=0.9999999999999996)\n",
      "Analysis tractometry metric:  span(mm)\n",
      "Ttest_indResult(statistic=-2.9652601843547705e-16, pvalue=0.9999999999999998)\n",
      "Analysis tractometry metric:  curl\n",
      "Ttest_indResult(statistic=-2.871927387009522e-17, pvalue=1.0)\n",
      "Analysis tractometry metric:  elongation\n",
      "Ttest_indResult(statistic=2.279955558134745e-17, pvalue=1.0)\n",
      "Analysis tractometry metric:  diameter(mm)\n",
      "Ttest_indResult(statistic=-6.942594743054665e-16, pvalue=0.9999999999999994)\n",
      "Analysis tractometry metric:  volume(mm^3)\n",
      "Ttest_indResult(statistic=0.0, pvalue=1.0)\n",
      "Analysis tractometry metric:  trunk volume(mm^3)\n",
      "Ttest_indResult(statistic=0.0, pvalue=1.0)\n",
      "Analysis tractometry metric:  branch volume(mm^3)\n",
      "Ttest_indResult(statistic=0.0, pvalue=1.0)\n",
      "Analysis tractometry metric:  total surface area(mm^2)\n",
      "Ttest_indResult(statistic=0.0, pvalue=1.0)\n",
      "Analysis tractometry metric:  total radius of end regions(mm)\n",
      "Ttest_indResult(statistic=8.107035367739042e-16, pvalue=0.9999999999999993)\n",
      "Analysis tractometry metric:  total area of end regions(mm^2)\n",
      "Ttest_indResult(statistic=0.0, pvalue=1.0)\n",
      "Analysis tractometry metric:  irregularity\n",
      "Ttest_indResult(statistic=-4.222004587464982e-16, pvalue=0.9999999999999997)\n",
      "Analysis tractometry metric:  area of end region 1(mm^2)\n",
      "Ttest_indResult(statistic=0.0, pvalue=1.0)\n",
      "Analysis tractometry metric:  radius of end region 1(mm)\n",
      "Ttest_indResult(statistic=2.9742413267814756e-17, pvalue=1.0)\n",
      "Analysis tractometry metric:  irregularity of end region 1\n",
      "Ttest_indResult(statistic=-4.00913741326009e-16, pvalue=0.9999999999999997)\n",
      "Analysis tractometry metric:  area of end region 2(mm^2)\n",
      "Ttest_indResult(statistic=0.0, pvalue=1.0)\n",
      "Analysis tractometry metric:  radius of end region 2(mm)\n",
      "Ttest_indResult(statistic=7.090302183981946e-16, pvalue=0.9999999999999994)\n",
      "Analysis tractometry metric:  irregularity of end region 2\n",
      "Ttest_indResult(statistic=2.218510732982488e-16, pvalue=0.9999999999999998)\n",
      "Analysis tractometry metric:  qa\n",
      "Ttest_indResult(statistic=-6.198012984165716e-17, pvalue=1.0)\n",
      "Analysis tractometry metric:  nqa\n",
      "Ttest_indResult(statistic=-1.9290074149897655e-15, pvalue=0.9999999999999984)\n",
      "Analysis tractometry metric:  gfa\n",
      "Ttest_indResult(statistic=1.2471940067876919e-15, pvalue=0.999999999999999)\n",
      "Analysis tractometry metric:  iso\n",
      "Ttest_indResult(statistic=-4.7639586529897164e-17, pvalue=1.0)\n"
     ]
    }
   ],
   "source": [
    "import scipy.stats as stats\n",
    "\n",
    "for i in range(len(header)-1):\n",
    "    metric = header[i+1]\n",
    "    print(\"Analysis tractometry metric: \", metric)\n",
    "    intra_metric = []\n",
    "    inter_metric = []\n",
    "    for dist in range(len(inter_dist)):\n",
    "        inter_metric.append(inter_dist[dist][i])\n",
    "    for dist in range(len(intra_dist)):\n",
    "        intra_metric.append(intra_dist[dist][i])\n",
    "    print(stats.ttest_ind(a=inter_metric,b=intra_metric,equal_var=False))\n",
    "        \n",
    "        "
   ]
  }
 ],
 "metadata": {
  "kernelspec": {
   "display_name": "Python 3 (ipykernel)",
   "language": "python",
   "name": "python3"
  },
  "language_info": {
   "codemirror_mode": {
    "name": "ipython",
    "version": 3
   },
   "file_extension": ".py",
   "mimetype": "text/x-python",
   "name": "python",
   "nbconvert_exporter": "python",
   "pygments_lexer": "ipython3",
   "version": "3.10.4"
  }
 },
 "nbformat": 4,
 "nbformat_minor": 5
}
